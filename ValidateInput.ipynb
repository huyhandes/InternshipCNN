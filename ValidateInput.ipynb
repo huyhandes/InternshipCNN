{
 "cells": [
  {
   "cell_type": "code",
   "execution_count": 5,
   "metadata": {
    "scrolled": true
   },
   "outputs": [],
   "source": [
    "import numpy as np\n",
    "import pandas as pd\n",
    "import matplotlib.pyplot as plt\n",
    "import os\n",
    "import seaborn as sns\n",
    "from multiprocessing import Pool\n",
    "from datetime import datetime\n",
    "%matplotlib inline\n",
    "import inputModule as ctreader\n",
    "import sys\n",
    "from skimage import io, feature, exposure, transform, draw, color"
   ]
  },
  {
   "cell_type": "code",
   "execution_count": 6,
   "metadata": {},
   "outputs": [
    {
     "data": {
      "text/html": [
       "<div>\n",
       "<style scoped>\n",
       "    .dataframe tbody tr th:only-of-type {\n",
       "        vertical-align: middle;\n",
       "    }\n",
       "\n",
       "    .dataframe tbody tr th {\n",
       "        vertical-align: top;\n",
       "    }\n",
       "\n",
       "    .dataframe thead th {\n",
       "        text-align: right;\n",
       "    }\n",
       "</style>\n",
       "<table border=\"1\" class=\"dataframe\">\n",
       "  <thead>\n",
       "    <tr style=\"text-align: right;\">\n",
       "      <th></th>\n",
       "      <th>seriesuid</th>\n",
       "      <th>coordX</th>\n",
       "      <th>coordY</th>\n",
       "      <th>coordZ</th>\n",
       "      <th>diameter_mm</th>\n",
       "    </tr>\n",
       "  </thead>\n",
       "  <tbody>\n",
       "    <tr>\n",
       "      <th>0</th>\n",
       "      <td>1.3.6.1.4.1.14519.5.2.1.6279.6001.100225287222...</td>\n",
       "      <td>-128.699421</td>\n",
       "      <td>-175.319272</td>\n",
       "      <td>-298.387506</td>\n",
       "      <td>5.651471</td>\n",
       "    </tr>\n",
       "    <tr>\n",
       "      <th>1</th>\n",
       "      <td>1.3.6.1.4.1.14519.5.2.1.6279.6001.100225287222...</td>\n",
       "      <td>103.783651</td>\n",
       "      <td>-211.925149</td>\n",
       "      <td>-227.121250</td>\n",
       "      <td>4.224708</td>\n",
       "    </tr>\n",
       "    <tr>\n",
       "      <th>2</th>\n",
       "      <td>1.3.6.1.4.1.14519.5.2.1.6279.6001.100398138793...</td>\n",
       "      <td>69.639017</td>\n",
       "      <td>-140.944586</td>\n",
       "      <td>876.374496</td>\n",
       "      <td>5.786348</td>\n",
       "    </tr>\n",
       "    <tr>\n",
       "      <th>3</th>\n",
       "      <td>1.3.6.1.4.1.14519.5.2.1.6279.6001.100621383016...</td>\n",
       "      <td>-24.013824</td>\n",
       "      <td>192.102405</td>\n",
       "      <td>-391.081276</td>\n",
       "      <td>8.143262</td>\n",
       "    </tr>\n",
       "    <tr>\n",
       "      <th>4</th>\n",
       "      <td>1.3.6.1.4.1.14519.5.2.1.6279.6001.100621383016...</td>\n",
       "      <td>2.441547</td>\n",
       "      <td>172.464881</td>\n",
       "      <td>-405.493732</td>\n",
       "      <td>18.545150</td>\n",
       "    </tr>\n",
       "  </tbody>\n",
       "</table>\n",
       "</div>"
      ],
      "text/plain": [
       "                                           seriesuid      coordX      coordY  \\\n",
       "0  1.3.6.1.4.1.14519.5.2.1.6279.6001.100225287222... -128.699421 -175.319272   \n",
       "1  1.3.6.1.4.1.14519.5.2.1.6279.6001.100225287222...  103.783651 -211.925149   \n",
       "2  1.3.6.1.4.1.14519.5.2.1.6279.6001.100398138793...   69.639017 -140.944586   \n",
       "3  1.3.6.1.4.1.14519.5.2.1.6279.6001.100621383016...  -24.013824  192.102405   \n",
       "4  1.3.6.1.4.1.14519.5.2.1.6279.6001.100621383016...    2.441547  172.464881   \n",
       "\n",
       "       coordZ  diameter_mm  \n",
       "0 -298.387506     5.651471  \n",
       "1 -227.121250     4.224708  \n",
       "2  876.374496     5.786348  \n",
       "3 -391.081276     8.143262  \n",
       "4 -405.493732    18.545150  "
      ]
     },
     "execution_count": 6,
     "metadata": {},
     "output_type": "execute_result"
    }
   ],
   "source": [
    "annotations = pd.read_csv('/storage/huybq/downloads/annotations.csv')\n",
    "annotations.head()"
   ]
  },
  {
   "cell_type": "code",
   "execution_count": 5,
   "metadata": {
    "scrolled": true
   },
   "outputs": [
    {
     "data": {
      "text/plain": [
       "(-157.67773, -311.67773, -438.4)"
      ]
     },
     "execution_count": 5,
     "metadata": {},
     "output_type": "execute_result"
    }
   ],
   "source": [
    "filePath = \"/storage/shared/luna_data/\"\n",
    "fileName = \"1.3.6.1.4.1.14519.5.2.1.6279.6001.100225287222365663678666836860\"\n",
    "fileExtensionName = \".mhd\"\n",
    "medpyIMG = ctreader.CTScan(filePath + fileName+ fileExtensionName)\n",
    "medpyIMG.getOrigin()"
   ]
  },
  {
   "cell_type": "code",
   "execution_count": null,
   "metadata": {},
   "outputs": [],
   "source": [
    "candidates = pd.read_csv('/storage/huybq/downloads/candidates.csv')\n",
    "candidates.head()"
   ]
  },
  {
   "cell_type": "code",
   "execution_count": 6,
   "metadata": {},
   "outputs": [],
   "source": [
    "def worldToVoxelCoord(worldCoord, origin, spacing):\n",
    "    stretchedVoxelCoord = np.absolute(worldCoord - origin)\n",
    "    voxelCoord = stretchedVoxelCoord / spacing\n",
    "    return voxelCoord"
   ]
  },
  {
   "cell_type": "code",
   "execution_count": 7,
   "metadata": {},
   "outputs": [],
   "source": [
    "def normalizePlanes2img ( medpyImg , mode) :\n",
    "    maxHU = 200.\n",
    "    minHU = -800.\n",
    "    medpyImg = ( medpyImg - minHU ) / ( maxHU - minHU )\n",
    "    medpyImg[medpyImg > 1] = 1.\n",
    "    if(mode == \"solid\"):\n",
    "        medpyImg[medpyImg < 0.3] = 0.\n",
    "    else:\n",
    "        medpyImg[medpyImg < 0] = 0.\n",
    "    medpyImg = (medpyImg * 255 // 1).astype(np.uint8)\n",
    "    return np.asarray(medpyImg)"
   ]
  },
  {
   "cell_type": "code",
   "execution_count": 8,
   "metadata": {},
   "outputs": [],
   "source": [
    "def formatPlanes ( medpyImg ) :\n",
    "    for i in range(medpyImg.shape[0]):\n",
    "        for j in range(medpyImg.shape[1]):\n",
    "            medpyImg[i,j] = checkState(medpyImg[i,j])\n",
    "    return medpyImg"
   ]
  },
  {
   "cell_type": "code",
   "execution_count": 9,
   "metadata": {},
   "outputs": [],
   "source": [
    "def getPatch (medpyImg ,coordinate):\n",
    "    x = int(coordinate[0])\n",
    "    y = int(coordinate[1])\n",
    "    z = int(coordinate[2])\n",
    "    return medpyImg[max(0,x - 32) : min(511,x + 33),max(0,y - 32) : min(511,y + 33),z]"
   ]
  },
  {
   "cell_type": "code",
   "execution_count": 10,
   "metadata": {},
   "outputs": [],
   "source": [
    "def checkState(hUnit):\n",
    "    if hUnit < -750:\n",
    "        return 0\n",
    "    if hUnit >= -750 and hUnit <= -300:\n",
    "        return 1\n",
    "    if hUnit > -300 and hUnit < -200:\n",
    "        return 2\n",
    "    if hUnit >= -200 and hUnit <= 200:\n",
    "        return 3\n",
    "    return 4"
   ]
  },
  {
   "cell_type": "code",
   "execution_count": null,
   "metadata": {},
   "outputs": [],
   "source": [
    "def classify (patch, coordX, coordY):\n",
    "    queue = np.asarray([[coordX,coordY]])\n",
    "    crossed = np.zeros(patch.shape,dtype=bool)\n",
    "    crossed[coordX,coordY] = True\n",
    "    non_solid_pixel = part_solid_pixel = solid_pixel = 0\n",
    "    directions = np.array([(-1,0),(0,-1),(0,1),(1,0)])\n",
    "    while queue.size > 0:\n",
    "        X,Y = queue[0]\n",
    "        queue = np.delete(queue,0,axis=0)\n",
    "        state = checkState(patch[X,Y])\n",
    "        if state == 0 or state == 4:\n",
    "            continue\n",
    "        if state == 1:\n",
    "            non_solid_pixel += 1\n",
    "        if state == 2:\n",
    "            part_solid_pixel += 1\n",
    "        if state == 3:\n",
    "            solid_pixel += 1\n",
    "        for direction in directions:\n",
    "            newX = X + direction[0]\n",
    "            newY = Y + direction[1]\n",
    "            if newX < 0 or newY < 0 or newX > 63 or newY > 63:\n",
    "                continue\n",
    "            if crossed[newX,newY] == False:\n",
    "                queue = np.vstack([queue,np.asarray([newX,newY])])\n",
    "                crossed[newX,newY] = True\n",
    "    return non_solid_pixel,part_solid_pixel,solid_pixel"
   ]
  },
  {
   "cell_type": "code",
   "execution_count": 28,
   "metadata": {},
   "outputs": [
    {
     "data": {
      "image/png": "[encoded data removed]",
      "text/plain": [
       "<Figure size 432x288 with 1 Axes>"
      ]
     },
     "metadata": {
      "needs_background": "light"
     },
     "output_type": "display_data"
    }
   ],
   "source": [
    "# load candidates\n",
    "# get candidates\n",
    "for index,row in annotations.iterrows():\n",
    "    if index == 2:\n",
    "        fileName = row[\"seriesuid\"]\n",
    "        medpyIMG = ctreader.CTScan(filePath + fileName+ fileExtensionName)\n",
    "        #print(voxelCoord)\n",
    "        #print(row[\"diameter_mm\"]/medpySpacing[0],row[\"diameter_mm\"])\n",
    "        medpyOrigin,medpySpacing = medpyIMG.getOrigin(),medpyIMG.getSpacing()\n",
    "        coord = worldToVoxelCoord(np.asarray([row['coordX'],row['coordY'],row['coordZ']]),medpyOrigin,medpySpacing)\n",
    "        wholePatch = getPatch(medpyIMG.getData(),coord)\n",
    "        io.imshow(ctreader.CTScan.hu2png(wholePatch))\n",
    "        #img = getPatch(medpyImg,512,[256,256,voxelCoord[2]])\n",
    "#         diffutionImg = smoothing.anisotropic_diffusion(normalizePlanes2img(wholePatch,\"non-solid\"),niter = 10, kappa = 2, gamma = 0.0625,voxelspacing = None, option = 3)\n",
    "    #         ax.set(title=str(row[\"diameter_mm\"]/medpySpacing[0]))\n",
    "    #         im = ax.imshow(wholePatch,cmap='RdBu',interpolation='nearest')\n",
    "    #         if index == 0 :\n",
    "    #             fig.colorbar(im, ax=ax)\n",
    "    #         fig.show()\n",
    "        #fig.savefig(\"/storage/huybq/downloads/patches-heatmap-HU/colorMap\"+str(indxtex)+\".png\")\n",
    "        #non_solid_pixel,part_solid_pixel,solid_pixel = classify(wholePatch,voxelWidth//2,voxelWidth//2)\n",
    "        #print(non_solid_pixel,part_solid_pixel,solid_pixel)\n",
    "        #io.imshow(hu2png(img,-800),cmap = plt.cm.gray)\n",
    "        #io.imshow(rotated)\n",
    "        #printio.imsave(\"/storage/huybq/downloads/patches-500-HU/\"+str(index)+\".png\",hu2png(wholePatch,-500))\n",
    "        #printio.imsave(\"/storage/huybq/downloads/patches-800-HU/\"+str(index)+\".png\",hu2png(wholePatch,-800))\n",
    "        #define solid,part-solid as 1\n",
    "        #define non-solid as 0\n",
    "        break"
   ]
  },
  {
   "cell_type": "code",
   "execution_count": 4,
   "metadata": {},
   "outputs": [
    {
     "data": {
      "image/png": "[encoded data removed]",
      "text/plain": [
       "<Figure size 432x288 with 1 Axes>"
      ]
     },
     "metadata": {
      "needs_background": "light"
     },
     "output_type": "display_data"
    }
   ],
   "source": [
    "array = [[0,1,2,3,4]]\n",
    "plt.figure(linewidth=0.3)\n",
    "heatmap = sns.heatmap(array, cmap ='afmhot',square=True,cbar = False)\n",
    "heatmap.yaxis.set_ticklabels('')\n",
    "plt.savefig('/storage/huybq/LIDC/figure/colormap.png',edgecolor='black',bbox_inches = 'tight',pad_inches = 0.006,dpi = 360)"
   ]
  },
  {
   "cell_type": "code",
   "execution_count": 7,
   "metadata": {},
   "outputs": [
    {
     "data": {
      "text/html": [
       "<div>\n",
       "<style scoped>\n",
       "    .dataframe tbody tr th:only-of-type {\n",
       "        vertical-align: middle;\n",
       "    }\n",
       "\n",
       "    .dataframe tbody tr th {\n",
       "        vertical-align: top;\n",
       "    }\n",
       "\n",
       "    .dataframe thead th {\n",
       "        text-align: right;\n",
       "    }\n",
       "</style>\n",
       "<table border=\"1\" class=\"dataframe\">\n",
       "  <thead>\n",
       "    <tr style=\"text-align: right;\">\n",
       "      <th></th>\n",
       "      <th>fileName</th>\n",
       "      <th>subtlety</th>\n",
       "      <th>internalStructure</th>\n",
       "      <th>calcification</th>\n",
       "      <th>sphericity</th>\n",
       "      <th>margin</th>\n",
       "      <th>lobulation</th>\n",
       "      <th>spiculation</th>\n",
       "      <th>texture</th>\n",
       "      <th>malignancy</th>\n",
       "      <th>diameter</th>\n",
       "      <th>surface_area</th>\n",
       "      <th>volume</th>\n",
       "      <th>avail32</th>\n",
       "      <th>avail64</th>\n",
       "      <th>height</th>\n",
       "      <th>width</th>\n",
       "    </tr>\n",
       "  </thead>\n",
       "  <tbody>\n",
       "    <tr>\n",
       "      <th>0</th>\n",
       "      <td>1.3.6.1.4.1.14519.5.2.1.6279.6001.339170810277...</td>\n",
       "      <td>4</td>\n",
       "      <td>1</td>\n",
       "      <td>6</td>\n",
       "      <td>4</td>\n",
       "      <td>4</td>\n",
       "      <td>1</td>\n",
       "      <td>2</td>\n",
       "      <td>5</td>\n",
       "      <td>3</td>\n",
       "      <td>19.500000</td>\n",
       "      <td>1135.239277</td>\n",
       "      <td>2621.823750</td>\n",
       "      <td>True</td>\n",
       "      <td>True</td>\n",
       "      <td>27</td>\n",
       "      <td>28</td>\n",
       "    </tr>\n",
       "    <tr>\n",
       "      <th>1</th>\n",
       "      <td>1.3.6.1.4.1.14519.5.2.1.6279.6001.339170810277...</td>\n",
       "      <td>5</td>\n",
       "      <td>1</td>\n",
       "      <td>6</td>\n",
       "      <td>3</td>\n",
       "      <td>4</td>\n",
       "      <td>1</td>\n",
       "      <td>1</td>\n",
       "      <td>5</td>\n",
       "      <td>3</td>\n",
       "      <td>20.840585</td>\n",
       "      <td>1124.125177</td>\n",
       "      <td>2439.303750</td>\n",
       "      <td>False</td>\n",
       "      <td>True</td>\n",
       "      <td>34</td>\n",
       "      <td>27</td>\n",
       "    </tr>\n",
       "    <tr>\n",
       "      <th>2</th>\n",
       "      <td>1.3.6.1.4.1.14519.5.2.1.6279.6001.339170810277...</td>\n",
       "      <td>4</td>\n",
       "      <td>1</td>\n",
       "      <td>5</td>\n",
       "      <td>5</td>\n",
       "      <td>5</td>\n",
       "      <td>1</td>\n",
       "      <td>1</td>\n",
       "      <td>5</td>\n",
       "      <td>1</td>\n",
       "      <td>5.076662</td>\n",
       "      <td>66.910605</td>\n",
       "      <td>62.107500</td>\n",
       "      <td>True</td>\n",
       "      <td>True</td>\n",
       "      <td>8</td>\n",
       "      <td>7</td>\n",
       "    </tr>\n",
       "    <tr>\n",
       "      <th>3</th>\n",
       "      <td>1.3.6.1.4.1.14519.5.2.1.6279.6001.339170810277...</td>\n",
       "      <td>5</td>\n",
       "      <td>1</td>\n",
       "      <td>4</td>\n",
       "      <td>3</td>\n",
       "      <td>5</td>\n",
       "      <td>2</td>\n",
       "      <td>3</td>\n",
       "      <td>5</td>\n",
       "      <td>4</td>\n",
       "      <td>23.300483</td>\n",
       "      <td>1650.898027</td>\n",
       "      <td>4332.315000</td>\n",
       "      <td>False</td>\n",
       "      <td>True</td>\n",
       "      <td>35</td>\n",
       "      <td>35</td>\n",
       "    </tr>\n",
       "    <tr>\n",
       "      <th>4</th>\n",
       "      <td>1.3.6.1.4.1.14519.5.2.1.6279.6001.303241414168...</td>\n",
       "      <td>3</td>\n",
       "      <td>1</td>\n",
       "      <td>6</td>\n",
       "      <td>5</td>\n",
       "      <td>5</td>\n",
       "      <td>5</td>\n",
       "      <td>5</td>\n",
       "      <td>5</td>\n",
       "      <td>5</td>\n",
       "      <td>12.683877</td>\n",
       "      <td>505.336348</td>\n",
       "      <td>803.854584</td>\n",
       "      <td>True</td>\n",
       "      <td>True</td>\n",
       "      <td>18</td>\n",
       "      <td>14</td>\n",
       "    </tr>\n",
       "  </tbody>\n",
       "</table>\n",
       "</div>"
      ],
      "text/plain": [
       "                                            fileName  subtlety  \\\n",
       "0  1.3.6.1.4.1.14519.5.2.1.6279.6001.339170810277...         4   \n",
       "1  1.3.6.1.4.1.14519.5.2.1.6279.6001.339170810277...         5   \n",
       "2  1.3.6.1.4.1.14519.5.2.1.6279.6001.339170810277...         4   \n",
       "3  1.3.6.1.4.1.14519.5.2.1.6279.6001.339170810277...         5   \n",
       "4  1.3.6.1.4.1.14519.5.2.1.6279.6001.303241414168...         3   \n",
       "\n",
       "   internalStructure  calcification  sphericity  margin  lobulation  \\\n",
       "0                  1              6           4       4           1   \n",
       "1                  1              6           3       4           1   \n",
       "2                  1              5           5       5           1   \n",
       "3                  1              4           3       5           2   \n",
       "4                  1              6           5       5           5   \n",
       "\n",
       "   spiculation  texture  malignancy   diameter  surface_area       volume  \\\n",
       "0            2        5           3  19.500000   1135.239277  2621.823750   \n",
       "1            1        5           3  20.840585   1124.125177  2439.303750   \n",
       "2            1        5           1   5.076662     66.910605    62.107500   \n",
       "3            3        5           4  23.300483   1650.898027  4332.315000   \n",
       "4            5        5           5  12.683877    505.336348   803.854584   \n",
       "\n",
       "   avail32  avail64  height  width  \n",
       "0     True     True      27     28  \n",
       "1    False     True      34     27  \n",
       "2     True     True       8      7  \n",
       "3    False     True      35     35  \n",
       "4     True     True      18     14  "
      ]
     },
     "execution_count": 7,
     "metadata": {},
     "output_type": "execute_result"
    }
   ],
   "source": [
    "metadata = pd.read_csv('/storage/huybq/LIDC/csvData/metadata.csv')\n",
    "metadata.head()"
   ]
  },
  {
   "cell_type": "code",
   "execution_count": 41,
   "metadata": {},
   "outputs": [],
   "source": [
    "data = metadata[['fileName','texture']].to_numpy()\n",
    "Path = '/storage/huybq/LIDC/lidc_image/heatmap/heatmap_64/'\n",
    "# for name in names:\n",
    "#     img = io.imread(huLocationFile+fileName+'.tiff')\n",
    "#     img = color.rbga2rgb(img)\n",
    "#     io.imsave(huLocationFile+fileName+'.tiff',img)\n",
    "#     gray_img = io.imread(greyLocationFile+fileName+'.tiff')\n",
    "#     mask = np.zeros((64,64,4),dtype=np.uint8)\n",
    "#     rr,cc = draw.disk((31.5,31.5),32)\n",
    "#     mask[rr,cc] = 1\n",
    "#     for angle in range(0,360,15):\n",
    "#         rotated = transform.rotate(img*mask,angle,resize=(64,64,3))\n",
    "#         io.imsave(rotatedFilePath+fileName+\"_rotate_\"+str(angle)+'.tiff',rotated,check_contrast = False)"
   ]
  },
  {
   "cell_type": "code",
   "execution_count": null,
   "metadata": {
    "scrolled": true
   },
   "outputs": [],
   "source": [
    "def shape_check(fileName,texture):\n",
    "    level = 360\n",
    "    if texture < 3:\n",
    "        level = 40\n",
    "    if texture == 3:\n",
    "        level = 24\n",
    "    for angle in range(0,360,level):\n",
    "        img = io.imread(greyRotateLocationFile+fileName+\"_rotate_\"+str(angle)+'.png')\n",
    "        if img.shape != (64,64):\n",
    "            print(fileName)"
   ]
  },
  {
   "cell_type": "code",
   "execution_count": 2,
   "metadata": {},
   "outputs": [],
   "source": [
    "def flip(img):\n",
    "    return np.fliplr(img)\n",
    "def img_rotate_generator(fileName, texture, x64 = True):\n",
    "    if x64 :\n",
    "#       source image\n",
    "        img = io.imread('/storage/huybq/LIDC/lidc_image/heatmap/heatmap_64/'+fileName+'.png')\n",
    "        if img.shape[2] == 4:\n",
    "            img = color.rgba2rgb(img)\n",
    "            io.imsave('/storage/huybq/LIDC/lidc_image/heatmap/heatmap_64/'+fileName+'.png',img)\n",
    "        grey_img = io.imread('/storage/huybq/LIDC/lidc_image/grey/grey_64/'+fileName+\".png\")\n",
    "#       flip image \n",
    "        img_flip = flip(img)\n",
    "        grey_img_flip = flip(grey_img)\n",
    "#       source rotated image\n",
    "        img_rotate = transform.rotate(img,30,clip = True)\n",
    "        grey_img_rotate = transform.rotate(grey_img,30,clip = True)\n",
    "#       rotated flip image\n",
    "        img_rotate_flip = transform.rotate(img_flip,30,clip = True)\n",
    "        grey_img_rotate_flip = transform.rotate(grey_img_flip,30,clip = True)\n",
    "#       save image\n",
    "        io.imsave('/storage/huybq/LIDC/lidc_image/heatmap/heatmap_64/'+fileName+'_flip.png',img_flip)\n",
    "        io.imsave('/storage/huybq/LIDC/lidc_image/grey/grey_64/'+fileName+'_flip.png',grey_img_flip, check_contrast = False)\n",
    "        io.imsave('/storage/huybq/LIDC/lidc_image/heatmap/heatmap_64/'+fileName+'_rotate.png',img_rotate)\n",
    "        io.imsave('/storage/huybq/LIDC/lidc_image/grey/grey_64/'+fileName+'_rotate.png',grey_img_rotate, check_contrast = False)\n",
    "        io.imsave('/storage/huybq/LIDC/lidc_image/heatmap/heatmap_64/'+fileName+'_flip_rotate.png',img_rotate_flip)\n",
    "        io.imsave('/storage/huybq/LIDC/lidc_image/grey/grey_64/'+fileName+'_flip_rotate.png',grey_img_rotate_flip, check_contrast = False)\n",
    "    else:\n",
    "        img = io.imread('/storage/huybq/LIDC/lidc_image/heatmap/heatmap_32/'+fileName+'.png')\n",
    "        if img.shape[2] == 4:\n",
    "            img = color.rgba2rgb(img)\n",
    "            io.imsave('/storage/huybq/LIDC/lidc_image/heatmap/heatmap_32/'+fileName+'.png',img)\n",
    "        grey_img = io.imread('/storage/huybq/LIDC/lidc_image/grey/grey_32/'+fileName+\".png\")\n",
    "#       flip image \n",
    "        img_flip = flip(img)\n",
    "        grey_img_flip = flip(grey_img)\n",
    "#       source rotated image\n",
    "        img_rotate = transform.rotate(img,30,clip = True)\n",
    "        grey_img_rotate = transform.rotate(grey_img,30,clip = True)\n",
    "#       rotated flip image\n",
    "        img_rotate_flip = transform.rotate(img_flip,30,clip = True)\n",
    "        grey_img_rotate_flip = transform.rotate(grey_img_flip,30,clip = True)\n",
    "#       save image\n",
    "        io.imsave('/storage/huybq/LIDC/lidc_image/heatmap/heatmap_32/'+fileName+'_flip.png',img_flip)\n",
    "        io.imsave('/storage/huybq/LIDC/lidc_image/grey/grey_32/'+fileName+'_flip.png',grey_img_flip, check_contrast = False)\n",
    "        io.imsave('/storage/huybq/LIDC/lidc_image/heatmap/heatmap_32/'+fileName+'_rotate.png',img_rotate)\n",
    "        io.imsave('/storage/huybq/LIDC/lidc_image/grey/grey_32/'+fileName+'_rotate.png',grey_img_rotate, check_contrast = False)\n",
    "        io.imsave('/storage/huybq/LIDC/lidc_image/heatmap/heatmap_32/'+fileName+'_flip_rotate.png',img_rotate_flip)\n",
    "        io.imsave('/storage/huybq/LIDC/lidc_image/grey/grey_32/'+fileName+'_flip_rotate.png',grey_img_rotate_flip, check_contrast = False)"
   ]
  },
  {
   "cell_type": "code",
   "execution_count": 10,
   "metadata": {},
   "outputs": [],
   "source": [
    "def remove_redundancies(fileName, texture, x64 = True):\n",
    "    if x64:\n",
    "        Path = '/storage/huybq/LIDC/lidc_image/heatmap/heatmap_64/'+fileName+'.png'\n",
    "        flipPath = '/storage/huybq/LIDC/lidc_image/heatmap/heatmap_64/'+fileName+'_flip.png'\n",
    "        rotatePath = '/storage/huybq/LIDC/lidc_image/heatmap/heatmap_64/'+fileName+'_rotate.png'\n",
    "        flipRotatePath = '/storage/huybq/LIDC/lidc_image/heatmap/heatmap_64/'+fileName+'_flip_rotate.png'\n",
    "    else:\n",
    "        Path = '/storage/huybq/LIDC/lidc_image/grey/grey_32/'+fileName+'png'\n",
    "        flipPath = '/storage/huybq/LIDC/lidc_image/grey/grey_32/'+fileName+'_flip.png'\n",
    "        rotatePath = '/storage/huybq/LIDC/lidc_image/grey/grey_32/'+fileName+'_rotate.png'\n",
    "        flipRotatePath = '/storage/huybq/LIDC/lidc_image/grey/grey_32/'+fileName+'_flip_rotate.png'\n",
    "    if os.path.exists(Path):\n",
    "        img = io.imread(Path)\n",
    "        if(img.shape[2] == 4):\n",
    "            print(img.shape)\n",
    "    if os.path.exists(flipPath):\n",
    "        img = io.imread(flipPath)\n",
    "        if(img.shape[2] == 4):\n",
    "            print(img.shape)\n",
    "    if os.path.exists(rotatePath):\n",
    "        img = io.imread(rotatePath)\n",
    "        if(img.shape[2] == 4):\n",
    "            print(img.shape)\n",
    "    if os.path.exists(flipRotatePath):\n",
    "        img = io.imread(flipRotatePath)\n",
    "        if(img.shape[2] == 4):\n",
    "            print(img.shape)\n",
    "for name,texture in data64:\n",
    "    remove_redundancies(name,texture)"
   ]
  },
  {
   "cell_type": "code",
   "execution_count": 42,
   "metadata": {},
   "outputs": [
    {
     "data": {
      "image/png": "[encoded data removed]",
      "text/plain": [
       "<Figure size 432x288 with 1 Axes>"
      ]
     },
     "metadata": {},
     "output_type": "display_data"
    }
   ],
   "source": [
    "for name,texture in data:\n",
    "    if texture == 3:\n",
    "        img = io.imread(Path+name+'.png')\n",
    "        io.imshow(img)\n",
    "        plt.xticks(ticks=[],labels=[])\n",
    "        plt.yticks(ticks=[],labels=[])\n",
    "        plt.savefig('/storage/huybq/LIDC/figure/heatmap.png',dpi=360,bbox_inches='tight')\n",
    "        break"
   ]
  },
  {
   "cell_type": "code",
   "execution_count": 43,
   "metadata": {},
   "outputs": [
    {
     "data": {
      "image/png": "[encoded data removed]",
      "text/plain": [
       "<Figure size 432x288 with 1 Axes>"
      ]
     },
     "metadata": {},
     "output_type": "display_data"
    }
   ],
   "source": [
    "for name,texture in data:\n",
    "    if texture == 3:\n",
    "        img = io.imread(Path+name+'_rotate.png')\n",
    "        io.imshow(img)\n",
    "        plt.xticks(ticks=[],labels=[])\n",
    "        plt.yticks(ticks=[],labels=[])\n",
    "        plt.savefig('/storage/huybq/LIDC/figure/heatmap_rotate.png',dpi=360,bbox_inches='tight')\n",
    "        break"
   ]
  },
  {
   "cell_type": "code",
   "execution_count": 44,
   "metadata": {},
   "outputs": [
    {
     "data": {
      "image/png": "[encoded data removed]",
      "text/plain": [
       "<Figure size 432x288 with 1 Axes>"
      ]
     },
     "metadata": {},
     "output_type": "display_data"
    }
   ],
   "source": [
    "for name,texture in data:\n",
    "    if texture == 3:\n",
    "        img = io.imread(Path+name+'_flip.png')\n",
    "        io.imshow(img)\n",
    "        plt.xticks(ticks=[],labels=[])\n",
    "        plt.yticks(ticks=[],labels=[])\n",
    "        plt.savefig('/storage/huybq/LIDC/figure/heatmap_flip.png',dpi=360,bbox_inches='tight')\n",
    "        break"
   ]
  },
  {
   "cell_type": "code",
   "execution_count": 45,
   "metadata": {},
   "outputs": [
    {
     "data": {
      "image/png": "[encoded data removed]",
      "text/plain": [
       "<Figure size 432x288 with 1 Axes>"
      ]
     },
     "metadata": {},
     "output_type": "display_data"
    }
   ],
   "source": [
    "for name,texture in data:\n",
    "    if texture == 3:\n",
    "        img = io.imread(Path+name+'_flip_rotate.png')\n",
    "        io.imshow(img)\n",
    "        plt.xticks(ticks=[],labels=[])\n",
    "        plt.yticks(ticks=[],labels=[])\n",
    "        plt.savefig('/storage/huybq/LIDC/figure/heatmap_flip_rotate.png',dpi=360,bbox_inches='tight')\n",
    "        break"
   ]
  },
  {
   "cell_type": "code",
   "execution_count": null,
   "metadata": {},
   "outputs": [],
   "source": [
    "def imgTiff2PNG(name):\n",
    "    img = io.imread(huLocationFile+name+'.tiff')\n",
    "    io.imsave('/storage/huybq/LIDC/LIDC_heatmap_segmented_64x64_png/'+name+'.png',img)\n",
    "    img = transform.resize(img,(256,256,3))\n",
    "    io.imsave('/storage/huybq/LIDC/LIDC_heatmap_segmented_64x64_to_256x256_png/'+name+'.png',img)\n",
    "    gray_img = io.imread(greyLocationFile+name+'.tiff')\n",
    "    io.imsave('/storage/huybq/LIDC/LIDC_grey_64x64_png/'+name+'.png',gray_img.astype(np.uint8))\n",
    "    gray_img = transform.resize(gray_img,(256,256))\n",
    "    io.imsave('/storage/huybq/LIDC/LIDC_grey_64x64_to_256x256_png/'+name+'.png',gray_img.astype(np.uint8))"
   ]
  },
  {
   "cell_type": "code",
   "execution_count": 4,
   "metadata": {},
   "outputs": [],
   "source": [
    "metadata = pd.read_csv('/storage/huybq/LIDC/csvData/metadata.csv')\n",
    "metadata32 = metadata.drop(metadata.loc[metadata['avail32'] == False].index)\n",
    "data32 = metadata32[['fileName','texture']].to_numpy()\n",
    "metadata64 = metadata.drop(metadata.loc[metadata['avail64'] == False].index)\n",
    "data64 = metadata64[['fileName','texture']].to_numpy()"
   ]
  },
  {
   "cell_type": "code",
   "execution_count": 15,
   "metadata": {},
   "outputs": [
    {
     "data": {
      "text/plain": [
       "(array([1, 2, 3, 4, 5], dtype=object), array([ 450,  106,  414,  285, 1911]))"
      ]
     },
     "execution_count": 15,
     "metadata": {},
     "output_type": "execute_result"
    }
   ],
   "source": [
    "arr = np.unique(data64[:,1], return_counts = True)\n",
    "arr"
   ]
  },
  {
   "cell_type": "code",
   "execution_count": 5,
   "metadata": {
    "scrolled": true
   },
   "outputs": [
    {
     "name": "stdout",
     "output_type": "stream",
     "text": [
      "0:00:00.511272\n",
      "0:00:00.511201\n"
     ]
    }
   ],
   "source": [
    "start = datetime.now()\n",
    "p = Pool(processes=24)\n",
    "p.starmap(remove_redundancies, [(name,texture) for (name,texture) in data64]) #[name for name in data])\n",
    "p.close()\n",
    "p.join()\n",
    "print(datetime.now() - start)\n",
    "start = datetime.now()\n",
    "p = Pool(processes=24)\n",
    "p.starmap(remove_redundancies, [(name,texture,False) for (name,texture) in data32]) #[name for name in data])\n",
    "p.close()\n",
    "p.join()\n",
    "print(datetime.now() - start)"
   ]
  },
  {
   "cell_type": "code",
   "execution_count": null,
   "metadata": {},
   "outputs": [],
   "source": [
    "img = io.imread(huLocationFile+'1.3.6.1.4.1.14519.5.2.1.6279.6001.807635771657676107005923650811_nodule_0_anno_0.tiff')\n",
    "#img_rotate_generator('1.3.6.1.4.1.14519.5.2.1.6279.6001.807635771657676107005923650811_nodule_0_anno_0')\n",
    "# grey_mask = np.zeros((64,64,3),dtype=np.uint8)\n",
    "# rr,cc = draw.disk((31.5,31.5),32)\n",
    "# grey_mask[rr,cc] = 1\n",
    "rotated = transform.rotate(img,45,clip=True)\n",
    "io.imshow(rotated)\n",
    "#io.imsave('/storage/huybq/LIDC/test.png',rotated,check_contrast=False)"
   ]
  },
  {
   "cell_type": "code",
   "execution_count": null,
   "metadata": {},
   "outputs": [],
   "source": []
  }
 ],
 "metadata": {
  "kernelspec": {
   "display_name": "Python 3",
   "language": "python",
   "name": "python3"
  },
  "language_info": {
   "codemirror_mode": {
    "name": "ipython",
    "version": 3
   },
   "file_extension": ".py",
   "mimetype": "text/x-python",
   "name": "python",
   "nbconvert_exporter": "python",
   "pygments_lexer": "ipython3",
   "version": "3.7.7"
  }
 },
 "nbformat": 4,
 "nbformat_minor": 4
}
